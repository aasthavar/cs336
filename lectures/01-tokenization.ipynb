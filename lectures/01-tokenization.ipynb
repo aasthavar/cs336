{
 "cells": [
  {
   "cell_type": "code",
   "execution_count": 1,
   "id": "358dfcb3",
   "metadata": {},
   "outputs": [],
   "source": [
    "from abc import ABC\n",
    "from dataclasses import dataclass\n",
    "from collections import defaultdict\n",
    "\n",
    "class Tokenizer(ABC):\n",
    "    \"\"\"abstract interface for a tokenizer.\"\"\"\n",
    "    def encode(self, string: str) -> list[int]:\n",
    "        raise NotImplementedError\n",
    "    def decode(self, indices: list[int]) -> str:\n",
    "        raise NotImplementedError\n",
    "    \n",
    "def get_compression_ratio(string: str, indices: list[int]) -> float:\n",
    "    num_bytes = len(string.encode(\"utf-8\"))\n",
    "    num_tokens = len(indices)\n",
    "    return num_bytes / num_tokens"
   ]
  },
  {
   "cell_type": "code",
   "execution_count": 2,
   "id": "10af3e6c",
   "metadata": {},
   "outputs": [
    {
     "name": "stdout",
     "output_type": "stream",
     "text": [
      "string: Hello, 🌍! 你好!\n",
      "reconstructed_string: Hello, 🌍! 你好!\n",
      "vocabulary_size: 127758\n",
      "compression_ratio: 1.5384615384615385\n"
     ]
    }
   ],
   "source": [
    "class CharacterTokenizer(Tokenizer):\n",
    "    \"\"\"represent a string as a sequence of unicode code points.\"\"\"\n",
    "    def encode(self, string: str) -> list[int]:\n",
    "        return [ord(c) for c in string] # list(map(ord, string))\n",
    "    \n",
    "    def decode(self, indices: list[int]) -> str:\n",
    "        return \"\".join([chr(i) for i in indices]) # \"\".join(map(chr, indices))\n",
    "   \n",
    "tokenizer = CharacterTokenizer()\n",
    "string = \"Hello, 🌍! 你好!\"\n",
    "indices = tokenizer.encode(string)\n",
    "reconstructed_string = tokenizer.decode(indices)\n",
    "\n",
    "vocabulary_size = max(indices) + 1\n",
    "compression_ratio = get_compression_ratio(string, indices)\n",
    "\n",
    "assert string == reconstructed_string\n",
    "print(f\"string: {string}\")\n",
    "print(f\"reconstructed_string: {reconstructed_string}\")\n",
    "print(f\"vocabulary_size: {vocabulary_size}\")\n",
    "print(f\"compression_ratio: {compression_ratio}\")"
   ]
  },
  {
   "cell_type": "code",
   "execution_count": 3,
   "id": "8905be4f",
   "metadata": {},
   "outputs": [
    {
     "name": "stdout",
     "output_type": "stream",
     "text": [
      "string: Hello, 🌍! 你好!\n",
      "reconstructed_string: Hello, 🌍! 你好!\n",
      "vocabulary_size: 256\n",
      "compression_ratio: 1.0\n"
     ]
    }
   ],
   "source": [
    "class ByteTokenizer(Tokenizer):\n",
    "    def encode(self, string: str) -> list[int]:\n",
    "        string_bytes = string.encode(\"utf-8\")\n",
    "        indices = [int(b) for b in string_bytes] # list(map(int, string_bytes))\n",
    "        return indices\n",
    "    \n",
    "    def decode(self, indices: list[int]) -> str:\n",
    "        string_bytes = bytes(indices)\n",
    "        string = string_bytes.decode(\"utf-8\")\n",
    "        return string\n",
    "    \n",
    "tokenizer = ByteTokenizer()\n",
    "string = \"Hello, 🌍! 你好!\"\n",
    "indices = tokenizer.encode(string)\n",
    "reconstructed_string = tokenizer.decode(indices)\n",
    "\n",
    "vocabulary_size = 256\n",
    "compression_ratio = get_compression_ratio(string, indices)\n",
    "\n",
    "assert string == reconstructed_string\n",
    "print(f\"string: {string}\")\n",
    "print(f\"reconstructed_string: {reconstructed_string}\")\n",
    "print(f\"vocabulary_size: {vocabulary_size}\")\n",
    "print(f\"compression_ratio: {compression_ratio}\")"
   ]
  },
  {
   "cell_type": "code",
   "execution_count": 4,
   "id": "38956799",
   "metadata": {},
   "outputs": [],
   "source": [
    "@dataclass(frozen=True)\n",
    "class BPETokenizerParams:\n",
    "    vocab: dict[int, bytes] # index -> bytes\n",
    "    merges: dict[tuple[int, int], int] # (index1, index2) -> new_index\n",
    "\n",
    "def merge(indices: list[int], pair: tuple[int, int], new_index: int) -> list[int]:\n",
    "    new_indices = []\n",
    "    i=0\n",
    "    while i<len(indices):\n",
    "        # check is current and next elements match the pair\n",
    "        if i+1<len(indices) and indices[i]==pair[0] and indices[i+1]==pair[1]:\n",
    "            # append new_index and skip both elements\n",
    "            new_indices.append(new_index)\n",
    "            i+=2\n",
    "        else: # no match, keep the current element and move to the next\n",
    "            new_indices.append(indices[i])\n",
    "            i+=1\n",
    "    return new_indices\n",
    "# -------------------------------------------------------------- #\n",
    "# merge([1, 2, 3, 4, 2, 3, 5], (2, 3), 9)\n",
    "\n",
    "# Walkthrough:\n",
    "#     At i=0: 1 → not part of (2, 3) → keep → [1]\n",
    "#     At i=1: 2,3 → match → replace with 9 → [1,9]\n",
    "#     At i=3: 4 → keep → [1,9,4]\n",
    "#     At i=4: 2,3 again → match → replace → [1,9,4,9]\n",
    "#     At i=6: 5 → keep → [1,9,4,9,5]\n",
    "\n",
    "# Result: [1, 9, 4, 9, 5]\n",
    "# -------------------------------------------------------------- #\n",
    "\n",
    "def train_bpe(string: int, num_merges: int) -> BPETokenizerParams:\n",
    "    indices = list(map(int, string.encode(\"utf-8\")))\n",
    "    merges: dict[tuple[int, int], int] = {} # (index1, index2) -> merged_index\n",
    "    vocab: dict[int, bytes] = {x: bytes([x]) for x in range(256)} # index -> bytes\n",
    "    \n",
    "    for i in range(num_merges):\n",
    "        counts = defaultdict(int)\n",
    "        for index1, index2 in zip(indices, indices[1:]):\n",
    "            counts[(index1, index2)] += 1\n",
    "\n",
    "        pair = max(counts, key=counts.get)\n",
    "        index1, index2 = pair\n",
    "        \n",
    "        new_index = 256 + i\n",
    "        merges[pair] = new_index\n",
    "        vocab[new_index] = vocab[index1] + vocab[index2]\n",
    "        indices = merge(indices, pair, new_index)\n",
    "    return BPETokenizerParams(vocab=vocab, merges=merges)\n",
    "\n",
    "string = \"the cat in the hat\"\n",
    "params = train_bpe(string, num_merges=3)"
   ]
  },
  {
   "cell_type": "code",
   "execution_count": null,
   "id": "f940942a",
   "metadata": {},
   "outputs": [
    {
     "name": "stdout",
     "output_type": "stream",
     "text": [
      "string: the quick brown fox\n",
      "reconstructed_string: the quick brown fox\n",
      "vocabulary_size: 259\n",
      "compression_ratio: 1.1875\n"
     ]
    }
   ],
   "source": [
    "class BPETokenizer(Tokenizer):\n",
    "    def __init__(self, params: BPETokenizerParams):\n",
    "        self.params = params\n",
    "    \n",
    "    def encode(self, string: str) -> list[int]:\n",
    "        string_bytes = string.encode(\"utf-8\")\n",
    "        indices = list(map(int, string_bytes))\n",
    "        for pair, new_index in self.params.merges.items():\n",
    "            indices = merge(indices, pair, new_index)\n",
    "        return indices\n",
    "    \n",
    "    def decode(self, indices: list[int]) -> str:\n",
    "        bytes_list = list(map(self.params.vocab.get, indices))\n",
    "        string_bytes = b\"\".join(bytes_list)\n",
    "        string = string_bytes.decode(\"utf-8\")\n",
    "        return string\n",
    "\n",
    "tokenizer = BPETokenizer(params)\n",
    "string = \"the quick brown fox\"\n",
    "indices = tokenizer.encode(string)\n",
    "reconstructed_string = tokenizer.decode(indices)\n",
    "\n",
    "vocabulary_size = len(tokenizer.params.vocab)\n",
    "compression_ratio = get_compression_ratio(string, indices)\n",
    "\n",
    "assert string == reconstructed_string\n",
    "print(f\"string: {string}\")\n",
    "print(f\"reconstructed_string: {reconstructed_string}\")\n",
    "print(f\"vocabulary_size: {vocabulary_size}\")\n",
    "print(f\"compression_ratio: {compression_ratio}\")"
   ]
  }
 ],
 "metadata": {
  "kernelspec": {
   "display_name": "cs336",
   "language": "python",
   "name": "python3"
  },
  "language_info": {
   "codemirror_mode": {
    "name": "ipython",
    "version": 3
   },
   "file_extension": ".py",
   "mimetype": "text/x-python",
   "name": "python",
   "nbconvert_exporter": "python",
   "pygments_lexer": "ipython3",
   "version": "3.12.11"
  }
 },
 "nbformat": 4,
 "nbformat_minor": 5
}
